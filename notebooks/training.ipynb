{
 "cells": [
  {
   "cell_type": "code",
   "execution_count": null,
   "id": "5b96871a-70e7-45d2-9e08-a996b196e762",
   "metadata": {},
   "outputs": [],
   "source": [
    "import glob\n",
    "import pandas as pd\n",
    "from bs4 import BeautifulSoup\n",
    "from sklearn.model_selection import train_test_split\n",
    "from sklearn.feature_extraction.text import CountVectorizer\n",
    "from sklearn import svm \n",
    "from sklearn.ensemble import RandomForestClassifier\n",
    "from sklearn.preprocessing import StandardScaler\n",
    "from sklearn.metrics import average_precision_score\n",
    "from sklearn.metrics import classification_report\n",
    "from sklearn.ensemble import GradientBoostingClassifier\n"
   ]
  },
  {
   "cell_type": "code",
   "execution_count": null,
   "id": "60add935-0abd-466f-a4d1-de8e5725afd2",
   "metadata": {},
   "outputs": [],
   "source": [
    "BENIGN_PATH = '../../phishingdatasets/benign'\n",
    "MAL_PATH = '../../phishingdatasets/malicious'"
   ]
  },
  {
   "cell_type": "code",
   "execution_count": null,
   "id": "ef34f03f-ea88-4f06-8884-cd0197161e59",
   "metadata": {},
   "outputs": [],
   "source": [
    "benign_files = glob.glob(f'{BENIGN_PATH}/**/*.txt', recursive=True)\n",
    "mal_files = glob.glob(f'{MAL_PATH}/**/*.txt', recursive=True)"
   ]
  },
  {
   "cell_type": "code",
   "execution_count": null,
   "id": "1f6a2af8-c867-4880-9745-7aaa4b44242d",
   "metadata": {},
   "outputs": [],
   "source": [
    "# https://www.nature.com/articles/s41598-022-10841-5.pdf\n",
    "\n",
    "class Features:\n",
    "    def __init__(self, body):\n",
    "        self.body = body\n",
    "        self.soup = BeautifulSoup(body, 'html.parser')\n",
    "\n",
    "    def get_attributes(self, attribute, alias, filter=None, **kwargs):\n",
    "        features = {f'total_{alias}':0, \n",
    "                    f'with_int_ref_{alias}': 0, \n",
    "                    f'with_ext_ref_{alias}':0, \n",
    "                    f'with_contents_{alias}': 0,\n",
    "                    'ref': filter\n",
    "                   }\n",
    "        all_attributes = self.soup.find_all(attribute, **kwargs)\n",
    "        features[f'total_{alias}'] = len(all_attributes)\n",
    "        for att in all_attributes:\n",
    "            if att.get(filter):\n",
    "                content = att[filter]\n",
    "                if content.startswith('http') or content.startswith('https'):\n",
    "                    features[f'with_ext_ref_{alias}'] += 1\n",
    "                else:\n",
    "                    features[f'with_int_ref_{alias}'] += 1\n",
    "            else:\n",
    "                if att.contents:\n",
    "                    features[f'with_contents_{alias}'] += 1\n",
    "        return features        \n"
   ]
  },
  {
   "cell_type": "code",
   "execution_count": null,
   "id": "9cf9122a-30f5-493c-8f3b-6dd5ced3fb91",
   "metadata": {},
   "outputs": [],
   "source": [
    "def gen_features(file: str) -> dict:\n",
    "    with open(file, 'r') as fileob:\n",
    "        file_data = fileob.read()\n",
    "\n",
    "    all_features = Features(file_data)\n",
    "    merged_features = {\n",
    "        'file': file,\n",
    "        **all_features.get_attributes('img', 'img', filter='src'),\n",
    "        **all_features.get_attributes('link', 'css', filter='href', rel='stylesheet'),\n",
    "        **all_features.get_attributes('script', 'script', filter='src'),\n",
    "        **all_features.get_attributes('a', 'a', filter='href'),\n",
    "        **all_features.get_attributes('form', 'form', filter='action')\n",
    "    }\n",
    "    return merged_features\n",
    "\n"
   ]
  },
  {
   "cell_type": "code",
   "execution_count": null,
   "id": "2241bb81-ad56-439e-b890-6b71248aad87",
   "metadata": {},
   "outputs": [],
   "source": [
    "ben_files = []\n",
    "try:\n",
    "    for benign_file in benign_files[:10000]:\n",
    "        features = gen_features(benign_file)\n",
    "        ben_files.append(features)\n",
    "except Exception as err:\n",
    "    print(err)\n",
    "\n",
    "benign_df = pd.DataFrame(ben_files)\n",
    "benign_df['result'] = 'benign'"
   ]
  },
  {
   "cell_type": "code",
   "execution_count": null,
   "id": "28fa3e98-96f5-44e6-baff-396907131e60",
   "metadata": {},
   "outputs": [],
   "source": [
    "phish_files = []\n",
    "try:\n",
    "    for mal_file in mal_files[:10000]:\n",
    "        features = gen_features(mal_file)\n",
    "        phish_files.append(features)\n",
    "except Exception as err:\n",
    "    print(err)\n",
    "\n",
    "phish_df = pd.DataFrame(phish_files)\n",
    "phish_df['result'] = 'phishing'"
   ]
  },
  {
   "cell_type": "code",
   "execution_count": null,
   "id": "a18ce588-bb93-4414-95d7-bc86e908ca0b",
   "metadata": {},
   "outputs": [],
   "source": [
    "merged_df = pd.concat([phish_df, benign_df], ignore_index=True)\n",
    "merged_df.drop(columns=['ref'], inplace=True)\n",
    "merged_df.head()"
   ]
  },
  {
   "cell_type": "code",
   "execution_count": null,
   "id": "35405b61-e5ef-410b-908b-8478f3dd5a8f",
   "metadata": {},
   "outputs": [],
   "source": [
    "X = merged_df.iloc[:, 1:-1]\n",
    "y = merged_df['result']"
   ]
  },
  {
   "cell_type": "code",
   "execution_count": null,
   "id": "c2f9bc29-1b36-44b8-9704-b319b4b7c93a",
   "metadata": {},
   "outputs": [],
   "source": [
    "X_train, X_test, y_train, y_test = train_test_split(\n",
    "    X, y, stratify=y, test_size=0.10, random_state=84\n",
    ")"
   ]
  },
  {
   "cell_type": "code",
   "execution_count": null,
   "id": "19207fed-9828-4882-94ab-fd7bf79a7d6c",
   "metadata": {},
   "outputs": [],
   "source": [
    "scaler = StandardScaler()\n",
    "X_train = scaler.fit_transform(X_train)\n",
    "X_test = scaler.transform(X_test)\n",
    "\n",
    "# create the classifier\n",
    "classifier = GradientBoostingClassifier(n_estimators=100)\n",
    "# Train the model using the training sets\n",
    "classifier.fit(X_train, y_train)\n",
    "\n",
    "# Predict using test data\n",
    "y_pred = classifier.predict(X_test)\n",
    "print(classification_report(y_test, y_pred))"
   ]
  },
  {
   "cell_type": "code",
   "execution_count": null,
   "id": "d7a91ea9-63e4-43ec-9425-1146a47fb2a9",
   "metadata": {},
   "outputs": [],
   "source": []
  },
  {
   "cell_type": "code",
   "execution_count": null,
   "id": "d68d383e-acb1-40ef-8dbb-69a2d2bc16f0",
   "metadata": {},
   "outputs": [],
   "source": []
  }
 ],
 "metadata": {
  "kernelspec": {
   "display_name": "Python 3 (ipykernel)",
   "language": "python",
   "name": "python3"
  },
  "language_info": {
   "codemirror_mode": {
    "name": "ipython",
    "version": 3
   },
   "file_extension": ".py",
   "mimetype": "text/x-python",
   "name": "python",
   "nbconvert_exporter": "python",
   "pygments_lexer": "ipython3",
   "version": "3.11.3"
  }
 },
 "nbformat": 4,
 "nbformat_minor": 5
}
